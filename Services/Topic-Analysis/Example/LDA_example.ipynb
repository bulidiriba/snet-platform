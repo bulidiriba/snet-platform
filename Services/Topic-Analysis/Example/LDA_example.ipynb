{
 "cells": [
  {
   "cell_type": "markdown",
   "metadata": {},
   "source": [
    "# LDA Topic Modelling with NLTK and Gensim"
   ]
  },
  {
   "cell_type": "code",
   "execution_count": null,
   "metadata": {},
   "outputs": [],
   "source": []
  },
  {
   "cell_type": "code",
   "execution_count": null,
   "metadata": {},
   "outputs": [],
   "source": []
  },
  {
   "cell_type": "markdown",
   "metadata": {},
   "source": [
    "# Text Cleaning"
   ]
  },
  {
   "cell_type": "code",
   "execution_count": 2,
   "metadata": {},
   "outputs": [],
   "source": [
    "import spacy"
   ]
  },
  {
   "cell_type": "code",
   "execution_count": 3,
   "metadata": {},
   "outputs": [],
   "source": [
    "#spacy.load('en')\n",
    "from spacy.lang.en import English\n",
    "parser = English()"
   ]
  },
  {
   "cell_type": "code",
   "execution_count": 4,
   "metadata": {},
   "outputs": [],
   "source": [
    "def tokenize(text):\n",
    "    lda_tokens = []\n",
    "    tokens = parser(text)\n",
    "    for token in tokens:\n",
    "        if (token.orth_.isspace()):\n",
    "            continue\n",
    "        elif token.like_url:\n",
    "            lda_tokens.append('URL')\n",
    "        elif token.orth_.startswith('@'):\n",
    "            lda_tokens.append('SCREEN_NAME')\n",
    "        else:\n",
    "            lda_tokens.append(token.lower_)\n",
    "    \n",
    "    return lda_tokens\n",
    "        "
   ]
  },
  {
   "cell_type": "code",
   "execution_count": null,
   "metadata": {},
   "outputs": [],
   "source": []
  },
  {
   "cell_type": "markdown",
   "metadata": {},
   "source": [
    "we use  \n",
    "\n",
    "NLTK's Wordnet --> to find the meanings of words, synonyms, antonyms, and more.\n",
    "\n",
    "NLTK's WorNetLemmatizer --> to get the root word"
   ]
  },
  {
   "cell_type": "code",
   "execution_count": 5,
   "metadata": {},
   "outputs": [],
   "source": [
    "import nltk"
   ]
  },
  {
   "cell_type": "code",
   "execution_count": 6,
   "metadata": {},
   "outputs": [
    {
     "name": "stderr",
     "output_type": "stream",
     "text": [
      "[nltk_data] Downloading package wordnet to /home/amante/nltk_data...\n",
      "[nltk_data]   Package wordnet is already up-to-date!\n"
     ]
    },
    {
     "data": {
      "text/plain": [
       "True"
      ]
     },
     "execution_count": 6,
     "metadata": {},
     "output_type": "execute_result"
    }
   ],
   "source": [
    "nltk.download('wordnet')"
   ]
  },
  {
   "cell_type": "code",
   "execution_count": 7,
   "metadata": {},
   "outputs": [],
   "source": [
    "from nltk.corpus import wordnet as wn"
   ]
  },
  {
   "cell_type": "code",
   "execution_count": 8,
   "metadata": {},
   "outputs": [],
   "source": [
    "def get_lemma(word):\n",
    "    lemma = wn.morphy(word)\n",
    "    if lemma is None:\n",
    "        return word\n",
    "    else:\n",
    "        return lemma"
   ]
  },
  {
   "cell_type": "code",
   "execution_count": 9,
   "metadata": {},
   "outputs": [],
   "source": [
    "from nltk.stem.wordnet import WordNetLemmatizer"
   ]
  },
  {
   "cell_type": "code",
   "execution_count": 10,
   "metadata": {},
   "outputs": [],
   "source": [
    "def get_lemma2(word):\n",
    "    return WordNetLemmatizer().lemmatize(word)"
   ]
  },
  {
   "cell_type": "code",
   "execution_count": null,
   "metadata": {},
   "outputs": [],
   "source": []
  },
  {
   "cell_type": "markdown",
   "metadata": {},
   "source": [
    "Filter out stop words"
   ]
  },
  {
   "cell_type": "code",
   "execution_count": 11,
   "metadata": {},
   "outputs": [
    {
     "name": "stderr",
     "output_type": "stream",
     "text": [
      "[nltk_data] Downloading package stopwords to /home/amante/nltk_data...\n",
      "[nltk_data]   Package stopwords is already up-to-date!\n"
     ]
    },
    {
     "data": {
      "text/plain": [
       "True"
      ]
     },
     "execution_count": 11,
     "metadata": {},
     "output_type": "execute_result"
    }
   ],
   "source": [
    "nltk.download('stopwords')"
   ]
  },
  {
   "cell_type": "code",
   "execution_count": 12,
   "metadata": {},
   "outputs": [],
   "source": [
    "en_stop = set(nltk.corpus.stopwords.words('english'))"
   ]
  },
  {
   "cell_type": "code",
   "execution_count": null,
   "metadata": {},
   "outputs": [],
   "source": []
  },
  {
   "cell_type": "markdown",
   "metadata": {},
   "source": [
    "Now define function for preprocessing the text for topic modelling"
   ]
  },
  {
   "cell_type": "code",
   "execution_count": 13,
   "metadata": {},
   "outputs": [],
   "source": [
    "def preprocess_text_for_lda(text):\n",
    "    tokens = tokenize(text)\n",
    "    tokens = [token for token in tokens if len(token) > 4]\n",
    "    tokens = [token for token in tokens if token not in en_stop]\n",
    "    tokens = [get_lemma(token) for token in tokens]\n",
    "    tokens = [get_lemma2(token) for token in tokens]\n",
    "    return tokens"
   ]
  },
  {
   "cell_type": "code",
   "execution_count": null,
   "metadata": {},
   "outputs": [],
   "source": []
  },
  {
   "cell_type": "markdown",
   "metadata": {},
   "source": [
    "open up our data,\n",
    "\n",
    "read line by line and for each line, prepare the text for LDA\n",
    "\n",
    "then add to a list\n"
   ]
  },
  {
   "cell_type": "code",
   "execution_count": 28,
   "metadata": {},
   "outputs": [
    {
     "name": "stdout",
     "output_type": "stream",
     "text": [
      "[['toward', 'democratic', 'lawful', 'citizenship', 'robot', 'corporation', 'goertzel', 'singularitynet', 'share', 'thought', 'citizenship', 'writing', 'plane', 'flying', 'malta', 'spoke', 'singularitynet', 'malta', 'blockchain', 'summit', 'first', 'malta', 'event', 'afternoon', 'explore', 'elegant', 'quaint', 'ancient', 'neighborhood', 'island', 'walking', 'medieval', 'alleyway', 'rocky', 'coast', 'ironic', 'contrast', 'elegant', 'surroundings', 'reason', 'decide', 'allocate', 'couple', 'insanely', 'schedule', 'malta', 'event', 'conference', 'opportunity', 'level', 'malta', 'government', 'discus', 'enablement', 'maltese', 'citizenship', 'robot', 'automate', 'corporation', 'folk', 'build', 'stone', 'wall', 'lining', 'narrow', 'maltese', 'road', 'still', 'standing', 'strong', 'century', 'later', 'probably', 'foresee', 'lap', 'island', 'become', 'nexus', 'thinking', 'intersection', 'general', 'intelligence', 'theory', 'cryptography', 'distribute', 'system', 'advance', 'legal', 'theory', 'hanson', 'robot', 'sophia', 'whose', 'development', 'intimately', 'involve', 'chief', 'scientist', 'hanson', 'robotics', 'grant', 'citizenship', 'saudi', 'arabia', 'excite', 'landmark', 'event', 'however', 'significance', 'muddle', 'saudi', 'arabia', 'governed', 'modern', 'sense', 'nation', 'governed', 'citizenship', 'clearly', 'define', 'meaning', 'right', 'responsibility', 'relatively', 'straightforwardly', 'derivable', 'write', 'legal', 'document', 'using', 'modern', 'analytical', 'logic', 'admittedly', 'measure', 'quasi', 'subjective', 'interpretation', 'saudi', 'arabian', 'citizenship', 'meaning', 'different', 'meaning\\\\u200a—\\\\u200aderivable', 'various', 'historical', 'islamic', 'writing', 'quran', 'hadith', 'base', 'contextual', 'interpretation', 'modern', 'historical', 'islamic', 'figure', 'specie', 'legal', 'interpretation', 'understand', 'rather', 'poorly', 'personally', 'easily', 'comprehensible', 'current', 'aware', 'affiliation', 'saudi', 'arabia', 'sense', 'become', 'controversial', 'recent', 'week', 'apparent', 'murder', 'jamal', 'khashoggi', 'certainly', 'favor', 'murder', 'journalist', 'anybody', 'government', 'anybody', 'however', 'speaking', 'personally', 'independently', 'company', 'involve', 'broad', 'political', 'issue', 'consider', 'grant', 'citizenship', 'sophia', 'genuinely', 'forward', 'thinking', 'positive', 'saudi', 'government', 'anyhow', 'since', 'grant', 'saudi', 'citizenship', 'hanson', 'robot', 'sophia', 'especially', 'interest', 'democratic', 'nation', 'governed', 'modern', 'style', 'legal', 'system', 'interest', 'citizenship', 'saudi', 'arabia', 'open', 'figure', 'robot', 'citizen', 'context', 'modern', 'legal', 'code', 'talk', 'numerous', 'people', 'involve', 'various', 'government', 'generally', 'getting', 'reaction', 'enthusiastic', 'interest', 'practical', 'activity', 'government', 'malta', 'appoint', 'force', 'junior', 'minister', 'financial', 'service', 'digital', 'economy', 'innovation', 'silvio', 'schembri', 'posit', 'initial', 'goal', 'force', 'create', 'definite', 'roadmap', 'toward', 'citizenship', 'singularitynet', 'colleague', 'working', 'closely', 'malta', 'force', 'common', 'understanding', 'citizenship', 'might', 'evaluate', 'whether', 'competent', 'consider', 'citizen', 'malta', 'malta', 'force', 'collaboration', 'singularitynet', 'colleague', 'others', 'advisory', 'committee', 'citizenship', 'comprise', 'individual', 'expertise', 'international', 'relation', 'ethic', 'relate', 'area', 'person', 'meeting', 'distance', 'communication', 'malta', 'base', 'force', 'globally', 'distribute', 'advisory', 'committee', 'toward', 'common', 'understanding', 'sense', 'notion', 'citizenship', 'practical', 'sense', 'figure', 'exactly', 'outcome', 'process', 'share', 'element', 'thinking', 'bring', 'discussion', 'first', 'robot', 'citizenship', 'stimulate', 'popular', 'imagination', 'course', 'matter', 'fundamentally', 'physical', 'embodiment', 'program', 'anchor', 'specific', 'robot', 'body', 'equally', 'deserve', 'citizenship', 'robot', 'sophia', 'become', 'intelligent', 'underlie', 'processing', 'come', 'compute', 'cloud', 'sophia', 'using', 'singularitynet', 'platform', 'among', 'tools)\\\\u200a—\\\\u200aso', 'robot', 'operate', 'multiple', 'different', 'robot', 'body', 'controversial', 'notion', 'corporation', 'legal', 'person', 'play', 'decentralize', 'autonomous', 'organization', 'automate', 'company', 'define', 'smart', 'contract', 'conducting', 'business', 'internet', 'fully', 'automate', 'way\\\\u200a—\\\\u200aunder', 'condition', 'allow', 'register', 'legal', 'corporation', 'without', 'need', 'human', 'provide', 'identification', 'form', 'really', 'issue', 'citizenship', 'artificially', 'intelligent', 'agent', 'chatbot', 'robot', 'control', 'system', 'something', 'entirely', 'different', 'preliminary', 'discussion', 'become', 'clear', 'already', 'perspective', 'malta', 'force', 'taking', 'given', 'malta', 'major', 'international', 'center', 'blockchain', 'enterprise', 'issue', 'regard', 'legal', 'status', 'relatively', 'prominent', 'force', 'members’', 'mind', 'various', 'level', 'citizenship', 'consider', 'estonia', 'introduce', 'notion', 'citizenship', 'require', 'physical', 'residency', 'estonia', 'might', 'sense', 'consider', 'maltese', 'citizenship', 'preliminary', 'enable', 'citizenship', 'given', 'malta', 'membership', 'clear', 'formal', 'bureaucratic', 'getting', 'various', 'type', 'citizenship', 'approve', 'however', 'reason', 'start', 'intelligent', 'future', 'progress', 'toward', 'relevant', 'type', 'general', 'intelligence', 'course', 'estimate', 'reasonable', 'possibility', 'relevant', 'science', 'engineering', 'sudden', 'leap', 'beneficial', 'necessarily', 'somewhat', 'careful', 'governmental', 'process', 'underway', 'early', 'possible', 'seem', 'sense', 'consider', 'series', 'level', 'citizenship', 'perhaps', 'first', 'honorary', 'citizenship', 'citizenship', 'citizenship', 'humans\\\\u200a—\\\\u200aor', 'perhaps', 'finely', 'grain', 'series', 'milestone', 'definition', 'stage', 'topic', 'force', 'advisory', 'committee', 'address', 'foundationally', 'as', 'whether', 'merit', 'citizenship', 'democracy', 'governed', 'malta', 'context', 'something', 'refine', 'group', 'process', 'force', 'advisory', 'committee', 'perspective', 'fairly', 'clear', 'country', 'constitution', 'relevant', 'portion', 'legal', 'answer', 'common', 'sense', 'question', 'present', 'textual', 'description', 'video', 'situation', 'explain', 'roughly', 'imply', 'situation', 'level', 'understanding', 'need', 'manage', 'right', 'responsibility', 'citizenship', 'citizen', 'would', 'presumably', 'responsibility', 'similar', 'human', 'citizen', 'though', 'perhaps', 'appropriate', 'variation', 'clearly', 'citizen', 'would', 'obligation', 'corporation', 'already', 'tax', 'obviously', 'though', 'consider', 'autonomous', 'citizen', 'serve', 'could', 'interest', 'might', 'provide', 'quite', 'different', 'perspective', 'human', 'citizen', 'great', 'flesh', 'suggestion', 'would', 'require', 'turing', 'classic', 'competence', 'require', 'human', 'thinking', 'human', 'lengthy', 'textual', 'turing', 'answer', 'question', 'bleed', 'difference', 'feel', 'parent', 'grandparent', 'partly', 'chew', 'pecan', 'smother', 'chocolate', 'cream', 'journey', 'throat?”\\\\u200a—\\\\u200awhich', 'irrelevant', 'understanding', 'right', 'responsibility', 'citizenship', 'indeed', 'could', 'citizenship', 'suggest', 'would', 'intellectual', 'sense', 'qualify', 'citizen', 'human', 'citizen', 'currently', 'modern', 'democracy', 'right', 'fully', 'participate', 'citizen', 'country', 'grant', 'native', 'individual', 'without', 'demonstration', 'understanding', 'country', 'however', 'become', 'naturalize', 'citizen', 'country', 'generally', 'basic', 'understanding', 'constitution', 'country', 'exact', 'given', 'human', 'naturalize', 'citizen', 'would', 'sense\\\\u200a—\\\\u200abecause', 'narrow', 'question', 'answer', 'system', 'could', 'engineer', 'test', 'easily', 'using', 'current', 'computational', 'linguistics', 'technology', 'possible', 'answer', 'simple', 'question', 'specific', 'document', 'know', 'advance', 'nation', 'constitution', 'without', 'actually', 'understanding', 'content', 'document', 'meaningful', 'sense', 'make', 'citizenship', 'interest', 'thing', 'think', 'scientific', 'point', 'question', 'become', 'validate', 'really', 'understand', 'constitution', 'oppose', 'parrot', 'answer', 'shallow', 'accurate', 'question', 'highlight', 'importance', 'general', 'intelligence', 'coping', 'complex', 'change', 'nature', 'everyday', 'human', 'world', 'answer', 'straightforward', 'question', 'literal', 'content', 'constitution', 'sufficient', 'merit', 'citizenship', 'country', 'about\\\\u200a—\\\\u200areal', 'confront', 'series', 'different', 'situation', 'aspect', 'never', 'encounter', 'maybe', 'aspect', 'nobody', 'encounter', 'effective', 'citizen', 'need', 'understand', 'social', 'contract', 'agree', 'apply', 'situation', 'effective', 'citizen', 'nation', 'operate', 'require', 'general', 'intelligence', 'combine', 'formal', 'linguistic', 'symbolic', 'knowledge', 'legal', 'ability', 'abstract', 'pattern', 'multimodal', 'sensory', 'informal', 'linguistic', 'correspond', 'actual', 'situation', 'need', 'apply', 'citizenship', 'need', 'particular', 'general', 'intelligence', 'need', 'stress', 'interest', 'issue', 'modern', 'fusion', 'symbolic', 'subsymbolic', 'knowledge', 'singularitynet', 'hanson', 'robotics', 'team', 'making', 'progress', 'symbolic', 'subsymbolic', 'fusion', 'various', 'domain', 'computer', 'vision', 'language', 'learning', 'inference', 'learning', 'could', 'meaningful', 'citizenship', 'would', 'require', 'advance', 'symbolic', 'subsymbolic', 'fusion', 'relate', 'different', 'sort', 'accord', 'current', 'understanding', 'completely', 'general', 'intelligence', 'possible', 'physical', 'universe', 'given', 'constraint', 'physical', 'place', 'space', 'energy', 'resource', 'different', 'general', 'intelligence', 'smart', 'different', 'sort', 'thing', 'could', 'highly', 'generally', 'intelligent', 'entity', 'unable', 'citizenship', 'test\\\\u200a—\\\\u200aif', 'general', 'intelligence', 'mathematical', 'theorem', 'prove', 'scientific', 'analytics', 'dealing', 'vagary', 'human', 'situation', 'general', 'intelligence', 'sensor', 'actuator', 'femto', 'scale', 'might', 'unable', 'rapidly', 'effectively', 'apply', 'human', 'legal', 'code', 'human', 'situation', 'spite', 'superhuman', 'general', 'intelligence', 'handling', 'complex', 'situation', 'inside', 'quark', 'gluon', 'plasma', 'neutron', 'star', 'understanding', 'human', 'emotion', 'state', 'consciousness', 'understanding', 'spatiotemporal', 'relationship', 'everyday', 'human', 'environment', 'might', 'interpretation', 'legal', 'code', 'large', 'class', 'practical', 'human', 'situation', 'passing', 'craft', 'citizenship', 'would', 'sufficient', 'condition', 'posse', 'level', 'human', 'general', 'intelligence', 'necessary', 'condition', 'posse', 'level', 'general', 'intelligence', 'necessary', 'condition', 'posse', 'level', 'human', 'general', 'intelligence', 'sufficient', 'condition', 'posse', 'precisely', 'human', 'intelligence', 'require', 'turing', 'similar', 'test', 'limitation', 'however', 'notion', 'citizenship', 'interest', 'interest', 'citizenship', 'specific', 'general', 'intelligence', 'specifically', 'relevant', 'aspect', 'modern', 'society', 'coming', 'year', 'capability', 'create', 'variety', 'different', 'type', 'general', 'intelligence', 'among', 'variety', 'create', 'pragmatic', 'understanding', 'human', 'legal', 'code', 'value', 'legal', 'code', 'exhaust', 'human', 'value', 'mean', 'closely', 'connect', 'aspect', 'human', 'value', 'richly', 'understand', 'human', 'value', 'culture', 'understand', 'apply', 'world', 'situation', 'important', 'aspect', 'consideration', 'address', 'unique', 'issue', 'arise', 'giving', 'citizenship', 'democratic', 'nation', 'instance', 'citizen', 'copy', 'codebase', 'time', 'become', 'citizen', 'copy', 'computer', 'living', 'robot', 'body', 'clearly', 'citizen', 'would', 'dominate', 'democratic', 'election', 'ability', 'rapid', 'replication', 'assume', 'consider', 'desirable', 'human', 'citizen', 'calling', 'shot', 'would', 'require', 'careful', 'delineation', 'right', 'associate', 'citizen', 'versus', 'human', 'citizens\\\\u200a—\\\\u200awhich', 'would', 'tricky', 'tricky', 'become', 'increasingly', 'generally', 'intelligent', 'aware', 'notably', 'issue', 'arise', 'context', 'citizenship”\\\\u200a—\\\\u200ae', 'citizen', 'estonia', 'currently', 'voting', 'right', 'irrelevant', 'relate', 'point', 'could', 'effectively', 'interpret', 'apply', 'legal', 'code', 'practical', 'context', 'would', 'highly', 'valuable', 'commercial', 'humanitarian', 'standpoint', 'would', 'allow', 'significant', 'portion', 'current', 'legal', 'practice', 'automate', 'would', 'allow', 'creation', 'automate', 'legal', 'assistant', 'provide', 'quality', 'legal', 'advice', 'individual', 'afford', 'lawyer', 'human', 'interpret', 'practical', 'context', 'level', 'average', 'citizen', 'level', 'expert', 'lawyer', 'smaller', 'certain', 'strong', 'guess', 'citizenship', 'sketch', 'fairly', 'short', 'automate', 'variety', 'professional', 'orient', 'function', 'pursuit', 'citizenship', 'significant', 'additional', 'value', 'human', 'level', 'beyond', 'going', 'challenge', 'multiple', 'dimension', 'algorithmic', 'problem', 'design', 'engineering', 'problem', 'scalable', 'distribute', 'decentralize', 'system', 'design', 'community', 'dynamic', 'business', 'problem', 'regard', 'fostering', 'utilization', 'early', 'stage', 'system', 'consequent', 'resource', 'development', 'broad', 'issue', 'regard', 'connection', 'system', 'human', 'society', 'polity', 'economy', 'culture', 'heady', 'rapidly', 'evolve', 'issue', 'citizenship', 'meaningful', 'fascinate', 'excite', 'cooperation', 'maltese', 'government', 'explore', 'futuristic', 'pertinent', 'domain', 'step', 'would', 'voice', 'perspective', 'citizenship', 'please', 'participate', 'singularitynet', 'plan', 'reinforce', 'expand', 'collaboration', 'order', 'shape', 'coming', 'singularity', 'positive', 'partner', 'click', 'forward', 'together', 'practically', 'towards', 'create', 'better', 'future', 'mission', 'democratize', 'transformative', 'power', 'enact', 'positive', 'last', 'change', 'singularitynet', 'passionate', 'talented', 'community', 'connect', 'visiting', 'community', 'forum', 'hello', 'introduce', 'proud', 'developer', 'researcher', 'actively', 'publishing', 'research', 'benefit', 'community', 'research', 'additional', 'information', 'please', 'refer', 'roadmaps', 'subscribe', 'newsletter', 'inform', 'development']]\n"
     ]
    }
   ],
   "source": [
    "import random \n",
    "train_data = []\n",
    "with open('data/test_doc') as f:\n",
    "    for line in f:\n",
    "        #print(line)\n",
    "        tokens = preprocess_text_for_lda(line)\n",
    "        \n",
    "        #print(tokens)\n",
    "        if random.random() > .99:\n",
    "            print(tokens)\n",
    "        train_data.append(tokens)\n",
    "\n",
    "print(train_data)"
   ]
  },
  {
   "cell_type": "code",
   "execution_count": null,
   "metadata": {},
   "outputs": [],
   "source": []
  },
  {
   "cell_type": "markdown",
   "metadata": {},
   "source": [
    "But the problem in Preprocessing \n",
    "\n",
    "still word are not prefectly changing to their lemma form, this means the WordNetLemmatizer is not genaral lemmatiter\n",
    "\n",
    "e.g gathering needs have to be changed to form gather but still gathering\n",
    "\n",
    "Programming to program but still program, \n",
    "\n",
    "reccomendation have to be changed to recommend but still recommendation also so many like this\n",
    "\n",
    "it counts some name as stop words like \"Ben Geortzel\", it doesnt know whether Ben Geortzel is a name, and it counts Ben as stop words and removes it\n",
    "\n",
    "even check from the blogs it the same clustering, pricing, simulation, ...."
   ]
  },
  {
   "cell_type": "markdown",
   "metadata": {},
   "source": [
    "# Creating a Dicitionary"
   ]
  },
  {
   "cell_type": "markdown",
   "metadata": {},
   "source": [
    "Now Create a Dictionary from the data,\n",
    "\n",
    "then convert this Dictionary to bag-of-words corpus\n",
    "\n",
    "then save both dictionary and bag-of-words corpus to the file for future use in the model.\n"
   ]
  },
  {
   "cell_type": "code",
   "execution_count": 29,
   "metadata": {},
   "outputs": [],
   "source": [
    "from gensim import corpora\n",
    "dictionary = corpora.Dictionary(train_data)\n",
    "bwd_corpus = [dictionary.doc2bow(text) for text in train_data]"
   ]
  },
  {
   "cell_type": "code",
   "execution_count": 30,
   "metadata": {},
   "outputs": [],
   "source": [
    "import pickle\n",
    "pickle.dump(bwd_corpus, open('data/bwd_corpus.pkl', 'wb'))\n",
    "dictionary.save('data/dictionary.gensim')"
   ]
  },
  {
   "cell_type": "code",
   "execution_count": 31,
   "metadata": {},
   "outputs": [
    {
     "data": {
      "text/plain": [
       "<gensim.corpora.dictionary.Dictionary at 0x7f399919de80>"
      ]
     },
     "execution_count": 31,
     "metadata": {},
     "output_type": "execute_result"
    }
   ],
   "source": [
    "dictionary"
   ]
  },
  {
   "cell_type": "code",
   "execution_count": 21,
   "metadata": {},
   "outputs": [],
   "source": [
    "#bwd_corpus"
   ]
  },
  {
   "cell_type": "markdown",
   "metadata": {},
   "source": [
    "# LDA with Gensim"
   ]
  },
  {
   "cell_type": "code",
   "execution_count": null,
   "metadata": {},
   "outputs": [],
   "source": []
  },
  {
   "cell_type": "markdown",
   "metadata": {},
   "source": [
    "We are asking to find 5 topics in the data"
   ]
  },
  {
   "cell_type": "code",
   "execution_count": 32,
   "metadata": {},
   "outputs": [],
   "source": [
    "import gensim"
   ]
  },
  {
   "cell_type": "code",
   "execution_count": 33,
   "metadata": {},
   "outputs": [],
   "source": [
    "NUM_TOPICS = 5\n",
    "# classifying the topics of our train data or documents into NUM_TOPICs\n",
    "\n",
    "# then for the new test data or new documents finding which topic this given document is belonging.\n",
    "\n",
    "# but this one does not make sense. because first why we need to have the classification topics, because our new document must be\n",
    "# in this category of first predefined topics, what about if its out of the train data. what will happen\n",
    "# this means our model is not going to finds topi"
   ]
  },
  {
   "cell_type": "code",
   "execution_count": null,
   "metadata": {},
   "outputs": [],
   "source": []
  },
  {
   "cell_type": "code",
   "execution_count": null,
   "metadata": {},
   "outputs": [],
   "source": []
  },
  {
   "cell_type": "code",
   "execution_count": null,
   "metadata": {},
   "outputs": [],
   "source": []
  },
  {
   "cell_type": "code",
   "execution_count": null,
   "metadata": {},
   "outputs": [],
   "source": []
  },
  {
   "cell_type": "code",
   "execution_count": null,
   "metadata": {},
   "outputs": [],
   "source": []
  },
  {
   "cell_type": "code",
   "execution_count": 34,
   "metadata": {},
   "outputs": [],
   "source": [
    "ldamodel = gensim.models.ldamodel.LdaModel(bwd_corpus, num_topics=NUM_TOPICS, id2word=dictionary, passes=15)"
   ]
  },
  {
   "cell_type": "code",
   "execution_count": 35,
   "metadata": {},
   "outputs": [],
   "source": [
    "ldamodel.save('model5.gensim')"
   ]
  },
  {
   "cell_type": "code",
   "execution_count": 36,
   "metadata": {},
   "outputs": [],
   "source": [
    "topics = ldamodel.print_topics(num_words=4)"
   ]
  },
  {
   "cell_type": "code",
   "execution_count": 37,
   "metadata": {},
   "outputs": [
    {
     "name": "stdout",
     "output_type": "stream",
     "text": [
      "(0, '0.002*\"citizenship\" + 0.002*\"human\" + 0.002*\"citizen\" + 0.002*\"general\"')\n",
      "(1, '0.002*\"citizenship\" + 0.002*\"human\" + 0.002*\"intelligence\" + 0.002*\"legal\"')\n",
      "(2, '0.002*\"human\" + 0.002*\"citizenship\" + 0.002*\"citizen\" + 0.002*\"legal\"')\n",
      "(3, '0.030*\"citizenship\" + 0.019*\"human\" + 0.015*\"citizen\" + 0.013*\"legal\"')\n",
      "(4, '0.002*\"citizenship\" + 0.002*\"human\" + 0.002*\"citizen\" + 0.002*\"intelligence\"')\n"
     ]
    }
   ],
   "source": [
    "for topic in topics:\n",
    "    print(topic)"
   ]
  },
  {
   "cell_type": "code",
   "execution_count": null,
   "metadata": {},
   "outputs": [],
   "source": []
  },
  {
   "cell_type": "code",
   "execution_count": null,
   "metadata": {},
   "outputs": [],
   "source": []
  },
  {
   "cell_type": "markdown",
   "metadata": {},
   "source": [
    "# Let's try by creating new document"
   ]
  },
  {
   "cell_type": "code",
   "execution_count": 38,
   "metadata": {},
   "outputs": [],
   "source": [
    "test_data = 'practical Bayesian Optimization of machine learning algorithims'\n",
    "#test_data = \"\""
   ]
  },
  {
   "cell_type": "code",
   "execution_count": 40,
   "metadata": {},
   "outputs": [],
   "source": [
    "preprocess_testdata = preprocess_text_for_lda(test_data)"
   ]
  },
  {
   "cell_type": "code",
   "execution_count": 41,
   "metadata": {},
   "outputs": [],
   "source": [
    "bow_testdata = dictionary.doc2bow(preprocess_testdata)"
   ]
  },
  {
   "cell_type": "code",
   "execution_count": 42,
   "metadata": {},
   "outputs": [
    {
     "name": "stdout",
     "output_type": "stream",
     "text": [
      "[(331, 1), (435, 1)]\n"
     ]
    }
   ],
   "source": [
    "print(bow_testdata)"
   ]
  },
  {
   "cell_type": "code",
   "execution_count": 43,
   "metadata": {},
   "outputs": [
    {
     "name": "stdout",
     "output_type": "stream",
     "text": [
      "[(0, 0.06671533), (1, 0.06671529), (2, 0.06671475), (3, 0.73313975), (4, 0.06671485)]\n"
     ]
    }
   ],
   "source": [
    "print(ldamodel.get_document_topics(bow_testdata))"
   ]
  },
  {
   "cell_type": "code",
   "execution_count": null,
   "metadata": {},
   "outputs": [],
   "source": []
  },
  {
   "cell_type": "code",
   "execution_count": null,
   "metadata": {},
   "outputs": [],
   "source": []
  },
  {
   "cell_type": "markdown",
   "metadata": {},
   "source": [
    "remember that the above 5 probabilities add up to 1"
   ]
  },
  {
   "cell_type": "markdown",
   "metadata": {},
   "source": [
    "# now we are asking LDA to find 3 topics in the data"
   ]
  },
  {
   "cell_type": "code",
   "execution_count": 151,
   "metadata": {},
   "outputs": [],
   "source": [
    "ldamodel3 = gensim.models.ldamodel.LdaModel(bwd_corpus, num_topics=3, id2word=dictionary, passes=15)"
   ]
  },
  {
   "cell_type": "code",
   "execution_count": 152,
   "metadata": {},
   "outputs": [],
   "source": [
    "ldamodel3.save('model3.gensim')"
   ]
  },
  {
   "cell_type": "code",
   "execution_count": 153,
   "metadata": {},
   "outputs": [],
   "source": [
    "topics = ldamodel3.print_topics(num_words=4)"
   ]
  },
  {
   "cell_type": "code",
   "execution_count": 154,
   "metadata": {},
   "outputs": [
    {
     "name": "stdout",
     "output_type": "stream",
     "text": [
      "(0, '0.017*\"database\" + 0.014*\"using\" + 0.013*\"system\" + 0.008*\"network\"')\n",
      "(1, '0.018*\"base\" + 0.018*\"network\" + 0.017*\"power\" + 0.014*\"system\"')\n",
      "(2, '0.024*\"network\" + 0.019*\"base\" + 0.013*\"multi\" + 0.011*\"search\"')\n"
     ]
    }
   ],
   "source": [
    "for topic in topics:\n",
    "    print(topic)"
   ]
  },
  {
   "cell_type": "code",
   "execution_count": null,
   "metadata": {},
   "outputs": [],
   "source": []
  },
  {
   "cell_type": "code",
   "execution_count": null,
   "metadata": {},
   "outputs": [],
   "source": []
  },
  {
   "cell_type": "markdown",
   "metadata": {},
   "source": [
    "# pyLDAvis"
   ]
  },
  {
   "cell_type": "markdown",
   "metadata": {},
   "source": [
    "pyLDAvis is designed to help users interpret the topics in a topic model that has been fit to a corpus of text data.\n",
    "\n",
    "the package extracts information from a fitted LDA topic model to inform an interactive web based visualization.\n",
    "\n",
    "Visualizing 5 topics"
   ]
  },
  {
   "cell_type": "code",
   "execution_count": 155,
   "metadata": {},
   "outputs": [],
   "source": [
    "dictionary = gensim.corpora.Dictionary.load('data/dictionary.gensim')\n",
    "corpus = pickle.load(open('data/bwd_corpus.pkl', 'rb'))"
   ]
  },
  {
   "cell_type": "code",
   "execution_count": 156,
   "metadata": {},
   "outputs": [],
   "source": [
    "lda = gensim.models.ldamodel.LdaModel.load('model5.gensim')"
   ]
  },
  {
   "cell_type": "code",
   "execution_count": 157,
   "metadata": {},
   "outputs": [],
   "source": [
    "import pyLDAvis.gensim"
   ]
  },
  {
   "cell_type": "code",
   "execution_count": 158,
   "metadata": {},
   "outputs": [
    {
     "name": "stderr",
     "output_type": "stream",
     "text": [
      "/home/amante/anaconda3/lib/python3.7/site-packages/pyLDAvis/_prepare.py:257: FutureWarning: Sorting because non-concatenation axis is not aligned. A future version\n",
      "of pandas will change to not sort by default.\n",
      "\n",
      "To accept the future behavior, pass 'sort=False'.\n",
      "\n",
      "To retain the current behavior and silence the warning, pass 'sort=True'.\n",
      "\n",
      "  return pd.concat([default_term_info] + list(topic_dfs))\n"
     ]
    }
   ],
   "source": [
    "lda_display = pyLDAvis.gensim.prepare(lda, corpus, dictionary, sort_topics=False)"
   ]
  },
  {
   "cell_type": "code",
   "execution_count": 159,
   "metadata": {},
   "outputs": [
    {
     "data": {
      "text/html": [
       "\n",
       "<link rel=\"stylesheet\" type=\"text/css\" href=\"https://cdn.rawgit.com/bmabey/pyLDAvis/files/ldavis.v1.0.0.css\">\n",
       "\n",
       "\n",
       "<div id=\"ldavis_el82981397328474395684106124161\"></div>\n",
       "<script type=\"text/javascript\">\n",
       "\n",
       "var ldavis_el82981397328474395684106124161_data = {\"mdsDat\": {\"x\": [0.17728867702247852, 0.11125690980233817, -0.07539941105095352, -0.12471218362787506, -0.08843399214598811], \"y\": [0.09513200783520344, -0.08989694222181584, -0.08264216737903302, 0.17227770411884483, -0.09487060235319941], \"topics\": [1, 2, 3, 4, 5], \"cluster\": [1, 1, 1, 1, 1], \"Freq\": [26.679250717163086, 15.814980506896973, 19.217498779296875, 22.723575592041016, 15.564690589904785]}, \"tinfo\": {\"Category\": [\"Default\", \"Default\", \"Default\", \"Default\", \"Default\", \"Default\", \"Default\", \"Default\", \"Default\", \"Default\", \"Default\", \"Default\", \"Default\", \"Default\", \"Default\", \"Default\", \"Default\", \"Default\", \"Default\", \"Default\", \"Default\", \"Default\", \"Default\", \"Default\", \"Default\", \"Default\", \"Default\", \"Default\", \"Default\", \"Default\", \"Topic1\", \"Topic1\", \"Topic1\", \"Topic1\", \"Topic1\", \"Topic1\", \"Topic1\", \"Topic1\", \"Topic1\", \"Topic1\", \"Topic1\", \"Topic1\", \"Topic1\", \"Topic1\", \"Topic1\", \"Topic1\", \"Topic1\", \"Topic1\", \"Topic1\", \"Topic1\", \"Topic1\", \"Topic1\", \"Topic1\", \"Topic1\", \"Topic1\", \"Topic1\", \"Topic1\", \"Topic1\", \"Topic1\", \"Topic1\", \"Topic1\", \"Topic1\", \"Topic1\", \"Topic1\", \"Topic1\", \"Topic1\", \"Topic1\", \"Topic1\", \"Topic1\", \"Topic1\", \"Topic1\", \"Topic1\", \"Topic1\", \"Topic1\", \"Topic1\", \"Topic1\", \"Topic1\", \"Topic1\", \"Topic1\", \"Topic1\", \"Topic1\", \"Topic1\", \"Topic1\", \"Topic1\", \"Topic1\", \"Topic1\", \"Topic1\", \"Topic1\", \"Topic1\", \"Topic1\", \"Topic2\", \"Topic2\", \"Topic2\", \"Topic2\", \"Topic2\", \"Topic2\", \"Topic2\", \"Topic2\", \"Topic2\", \"Topic2\", \"Topic2\", \"Topic2\", \"Topic2\", \"Topic2\", \"Topic2\", \"Topic2\", \"Topic2\", \"Topic2\", \"Topic2\", \"Topic2\", \"Topic2\", \"Topic2\", \"Topic2\", \"Topic2\", \"Topic2\", \"Topic2\", \"Topic2\", \"Topic2\", \"Topic2\", \"Topic2\", \"Topic2\", \"Topic2\", \"Topic2\", \"Topic2\", \"Topic2\", \"Topic2\", \"Topic2\", \"Topic2\", \"Topic2\", \"Topic2\", \"Topic2\", \"Topic2\", \"Topic2\", \"Topic2\", \"Topic2\", \"Topic2\", \"Topic2\", \"Topic2\", \"Topic2\", \"Topic2\", \"Topic2\", \"Topic2\", \"Topic2\", \"Topic2\", \"Topic2\", \"Topic2\", \"Topic2\", \"Topic2\", \"Topic2\", \"Topic2\", \"Topic2\", \"Topic2\", \"Topic3\", \"Topic3\", \"Topic3\", \"Topic3\", \"Topic3\", \"Topic3\", \"Topic3\", \"Topic3\", \"Topic3\", \"Topic3\", \"Topic3\", \"Topic3\", \"Topic3\", \"Topic3\", \"Topic3\", \"Topic3\", \"Topic3\", \"Topic3\", \"Topic3\", \"Topic3\", \"Topic3\", \"Topic3\", \"Topic3\", \"Topic3\", \"Topic3\", \"Topic3\", \"Topic3\", \"Topic3\", \"Topic3\", \"Topic3\", \"Topic3\", \"Topic3\", \"Topic3\", \"Topic3\", \"Topic3\", \"Topic3\", \"Topic3\", \"Topic3\", \"Topic3\", \"Topic3\", \"Topic3\", \"Topic3\", \"Topic3\", \"Topic3\", \"Topic3\", \"Topic3\", \"Topic3\", \"Topic3\", \"Topic3\", \"Topic3\", \"Topic3\", \"Topic3\", \"Topic3\", \"Topic3\", \"Topic3\", \"Topic3\", \"Topic3\", \"Topic3\", \"Topic3\", \"Topic4\", \"Topic4\", \"Topic4\", \"Topic4\", \"Topic4\", \"Topic4\", \"Topic4\", \"Topic4\", \"Topic4\", \"Topic4\", \"Topic4\", \"Topic4\", \"Topic4\", \"Topic4\", \"Topic4\", \"Topic4\", \"Topic4\", \"Topic4\", \"Topic4\", \"Topic4\", \"Topic4\", \"Topic4\", \"Topic4\", \"Topic4\", \"Topic4\", \"Topic4\", \"Topic4\", \"Topic4\", \"Topic4\", \"Topic4\", \"Topic4\", \"Topic4\", \"Topic4\", \"Topic4\", \"Topic4\", \"Topic4\", \"Topic4\", \"Topic4\", \"Topic4\", \"Topic4\", \"Topic4\", \"Topic4\", \"Topic4\", \"Topic4\", \"Topic4\", \"Topic4\", \"Topic4\", \"Topic4\", \"Topic4\", \"Topic4\", \"Topic4\", \"Topic4\", \"Topic4\", \"Topic4\", \"Topic5\", \"Topic5\", \"Topic5\", \"Topic5\", \"Topic5\", \"Topic5\", \"Topic5\", \"Topic5\", \"Topic5\", \"Topic5\", \"Topic5\", \"Topic5\", \"Topic5\", \"Topic5\", \"Topic5\", \"Topic5\", \"Topic5\", \"Topic5\", \"Topic5\", \"Topic5\", \"Topic5\", \"Topic5\", \"Topic5\", \"Topic5\", \"Topic5\", \"Topic5\", \"Topic5\", \"Topic5\", \"Topic5\", \"Topic5\", \"Topic5\", \"Topic5\", \"Topic5\", \"Topic5\", \"Topic5\", \"Topic5\", \"Topic5\", \"Topic5\", \"Topic5\", \"Topic5\", \"Topic5\", \"Topic5\", \"Topic5\", \"Topic5\", \"Topic5\", \"Topic5\", \"Topic5\", \"Topic5\", \"Topic5\", \"Topic5\", \"Topic5\", \"Topic5\", \"Topic5\", \"Topic5\", \"Topic5\", \"Topic5\"], \"Freq\": [267.0, 87.0, 107.0, 83.0, 59.0, 47.0, 236.0, 175.0, 33.0, 93.0, 51.0, 111.0, 78.0, 35.0, 27.0, 26.0, 42.0, 18.0, 52.0, 58.0, 94.0, 85.0, 52.0, 32.0, 34.0, 22.0, 141.0, 25.0, 19.0, 29.0, 46.40908432006836, 18.950651168823242, 18.06307601928711, 17.020587921142578, 15.214812278747559, 14.46534538269043, 14.4364595413208, 12.50328540802002, 12.046727180480957, 11.90176773071289, 11.75243854522705, 11.305412292480469, 10.69367504119873, 11.383028030395508, 10.394131660461426, 9.638031959533691, 10.618692398071289, 9.48604965209961, 9.191338539123535, 9.046165466308594, 8.739143371582031, 8.735540390014648, 8.593573570251465, 8.137622833251953, 8.684599876403809, 7.54335355758667, 7.797488689422607, 7.394819259643555, 7.238766670227051, 7.236584186553955, 236.12454223632812, 68.6693344116211, 16.393701553344727, 16.590274810791016, 80.01040649414062, 27.2598819732666, 38.415802001953125, 36.890602111816406, 18.096864700317383, 41.934322357177734, 20.934364318847656, 18.570255279541016, 32.11945343017578, 22.233097076416016, 27.894527435302734, 24.983854293823242, 66.70478820800781, 33.000633239746094, 20.980985641479492, 28.58392906188965, 16.68535041809082, 16.589351654052734, 26.274091720581055, 27.926448822021484, 20.992523193359375, 28.212961196899414, 19.553693771362305, 17.592844009399414, 18.30522918701172, 18.642484664916992, 13.471768379211426, 13.178346633911133, 10.061431884765625, 9.12386703491211, 8.989911079406738, 8.7070894241333, 7.892174243927002, 7.748863220214844, 7.492076396942139, 7.490879058837891, 7.344241142272949, 7.074213027954102, 6.948768138885498, 6.938122749328613, 6.1270527839660645, 6.124577045440674, 5.726902961730957, 5.724975109100342, 5.719818115234375, 5.5893073081970215, 5.309427738189697, 5.183559417724609, 5.183064937591553, 5.180009841918945, 6.747817039489746, 4.909612655639648, 4.775323390960693, 4.770045757293701, 4.769414901733398, 4.6403117179870605, 28.58469009399414, 6.47177267074585, 7.362976551055908, 12.303832054138184, 12.408159255981445, 37.55177688598633, 20.123920440673828, 5.777092933654785, 53.3941764831543, 9.369767189025879, 22.398508071899414, 11.290428161621094, 9.246581077575684, 8.509260177612305, 29.94774627685547, 11.218299865722656, 9.472548484802246, 21.988574981689453, 16.213481903076172, 29.820505142211914, 17.892744064331055, 9.706100463867188, 8.81447696685791, 13.905169486999512, 14.313343048095703, 14.634615898132324, 10.477913856506348, 11.210295677185059, 9.473723411560059, 9.441301345825195, 9.317185401916504, 9.1528959274292, 18.53958511352539, 17.379343032836914, 11.483262062072754, 10.500733375549316, 10.49930191040039, 10.359060287475586, 10.212071418762207, 10.205799102783203, 9.925577163696289, 10.444092750549316, 9.495766639709473, 9.063714981079102, 8.633504867553711, 8.344475746154785, 8.201879501342773, 7.77360725402832, 7.629105091094971, 7.465683460235596, 7.453190326690674, 7.050617694854736, 6.907632827758789, 6.765949249267578, 6.477053165435791, 6.4706034660339355, 8.0198335647583, 6.048941135406494, 6.047906875610352, 5.904679298400879, 5.618273735046387, 5.618152618408203, 6.362457752227783, 69.42566680908203, 21.32581329345703, 16.491395950317383, 27.698925018310547, 13.277836799621582, 13.441629409790039, 16.82795524597168, 14.160666465759277, 17.487646102905273, 67.2734603881836, 20.957942962646484, 29.34599494934082, 47.391178131103516, 12.794490814208984, 24.455589294433594, 17.290143966674805, 15.47589111328125, 21.42095375061035, 31.301891326904297, 19.013999938964844, 17.017423629760742, 15.72724723815918, 15.974701881408691, 14.395929336547852, 12.797904014587402, 15.420960426330566, 13.933951377868652, 14.172962188720703, 26.44431495666504, 25.983158111572266, 21.674541473388672, 20.73641014099121, 19.521379470825195, 16.453371047973633, 15.681262969970703, 15.221728324890137, 15.372668266296387, 14.752710342407227, 12.612136840820312, 13.176987648010254, 11.230284690856934, 11.077030181884766, 11.208690643310547, 10.299501419067383, 9.082006454467773, 8.92375373840332, 14.176318168640137, 13.618828773498535, 8.900162696838379, 8.452364921569824, 8.311243057250977, 8.001940727233887, 7.389743328094482, 7.373903274536133, 7.234691619873047, 7.2322516441345215, 11.538419723510742, 6.763256072998047, 31.50412940979004, 37.17055130004883, 19.652563095092773, 24.08433723449707, 25.272722244262695, 65.7906494140625, 17.857646942138672, 51.38786697387695, 49.686805725097656, 24.362733840942383, 22.368362426757812, 23.493776321411133, 57.202964782714844, 79.11045837402344, 23.91448402404785, 22.839933395385742, 30.53635025024414, 35.99388885498047, 22.034086227416992, 16.063854217529297, 22.43124008178711, 17.54273796081543, 16.135013580322266, 17.474241256713867, 17.611112594604492, 12.567453384399414, 11.970453262329102, 10.677469253540039, 9.969588279724121, 8.661077499389648, 7.803762435913086, 7.802749156951904, 7.799804210662842, 7.796337127685547, 7.660917282104492, 7.367987632751465, 7.361570835113525, 6.936639785766602, 6.789361000061035, 6.069897651672363, 6.067708492279053, 5.927541255950928, 5.6402435302734375, 5.205871105194092, 5.205053329467773, 5.204461574554443, 5.202643871307373, 5.19700288772583, 5.0659356117248535, 5.061304092407227, 5.059137344360352, 4.7746782302856445, 4.774501800537109, 4.774443626403809, 14.07470989227295, 13.55384349822998, 12.016361236572266, 15.97521686553955, 10.249045372009277, 9.278787612915039, 11.667726516723633, 12.077479362487793, 14.777840614318848, 14.159034729003906, 16.919111251831055, 23.176088333129883, 35.68619918823242, 10.799182891845703, 11.08401107788086, 16.438587188720703, 16.97352409362793, 18.232091903686523, 22.943994522094727, 12.880477905273438, 14.349286079406738, 14.952698707580566, 15.519472122192383, 13.057496070861816, 11.6808500289917, 10.479453086853027], \"Term\": [\"network\", \"query\", \"wireless\", \"sensor\", \"search\", \"route\", \"base\", \"system\", \"management\", \"power\", \"architecture\", \"design\", \"database\", \"digital\", \"delta\", \"sigma\", \"modeling\", \"sharing\", \"dynamic\", \"service\", \"algorithm\", \"application\", \"information\", \"converter\", \"semantic\", \"continuous\", \"using\", \"motion\", \"relational\", \"frequency\", \"route\", \"traffic\", \"cache\", \"optical\", \"server\", \"allocation\", \"fractional\", \"collection\", \"center\", \"event\", \"selection\", \"multicast\", \"static\", \"operation\", \"variable\", \"electronic\", \"multipath\", \"joint\", \"program\", \"maximize\", \"threshold\", \"cluster\", \"congestion\", \"strategy\", \"target\", \"cognitive\", \"office\", \"cellular\", \"stochastic\", \"uncertainty\", \"network\", \"sensor\", \"packet\", \"access\", \"wireless\", \"delay\", \"dynamic\", \"service\", \"optimal\", \"control\", \"social\", \"scheduling\", \"large\", \"internet\", \"mobile\", \"scheme\", \"base\", \"application\", \"aware\", \"analysis\", \"measurement\", \"energy\", \"multi\", \"power\", \"information\", \"system\", \"method\", \"channel\", \"algorithm\", \"using\", \"understanding\", \"interaction\", \"line\", \"issue\", \"session\", \"unify\", \"recording\", \"localization\", \"connect\", \"backbone\", \"machine\", \"wikipedia\", \"wideband\", \"generalize\", \"browsing\", \"router\", \"maintenance\", \"antenna\", \"sleep\", \"relationship\", \"material\", \"entity\", \"adder\", \"probabilistic\", \"placement\", \"observatory\", \"aggregate\", \"guarantee\", \"presence\", \"security\", \"management\", \"table\", \"camera\", \"impact\", \"panel\", \"search\", \"semantic\", \"protection\", \"system\", \"graphic\", \"information\", \"virtual\", \"attack\", \"retrieval\", \"using\", \"engine\", \"domain\", \"wireless\", \"approach\", \"network\", \"database\", \"document\", \"multimedia\", \"sensor\", \"power\", \"design\", \"internet\", \"model\", \"image\", \"dynamic\", \"structure\", \"performance\", \"relational\", \"mapping\", \"transfer\", \"storage\", \"update\", \"rendering\", \"matrix\", \"color\", \"mechanism\", \"experience\", \"context\", \"challenge\", \"discovery\", \"site\", \"solution\", \"click\", \"simple\", \"admission\", \"wavelength\", \"specification\", \"representation\", \"early\", \"iterative\", \"convergence\", \"monitoring\", \"editing\", \"write\", \"realistic\", \"metadata\", \"secondary\", \"capture\", \"query\", \"motion\", \"animation\", \"modeling\", \"stream\", \"extraction\", \"interactive\", \"generate\", \"processing\", \"base\", \"structure\", \"database\", \"system\", \"point\", \"model\", \"content\", \"level\", \"search\", \"using\", \"efficient\", \"service\", \"video\", \"method\", \"adaptive\", \"graph\", \"application\", \"architecture\", \"multi\", \"delta\", \"sigma\", \"continuous\", \"parallel\", \"modulator\", \"decoder\", \"light\", \"pipelined\", \"phase\", \"synchronization\", \"double\", \"decoding\", \"blind\", \"methodology\", \"demand\", \"audio\", \"complexity\", \"square\", \"compensation\", \"programmable\", \"resistor\", \"fpgas\", \"reduce\", \"price\", \"cancellation\", \"projection\", \"reality\", \"comparison\", \"integration\", \"stage\", \"digital\", \"architecture\", \"analog\", \"converter\", \"estimation\", \"design\", \"synthesis\", \"power\", \"algorithm\", \"amplifier\", \"speed\", \"circuit\", \"using\", \"base\", \"implementation\", \"novel\", \"filter\", \"application\", \"noise\", \"field\", \"efficient\", \"method\", \"current\", \"analysis\", \"sharing\", \"computer\", \"policy\", \"toward\", \"compression\", \"programming\", \"segmentation\", \"capacitor\", \"series\", \"vary\", \"tuning\", \"extend\", \"distortion\", \"fix\", \"computation\", \"parametric\", \"construct\", \"tree\", \"recursive\", \"picture\", \"fourier\", \"simulate\", \"detect\", \"share\", \"visualization\", \"create\", \"h.264/avc\", \"focus\", \"invariant\", \"third\", \"spectrum\", \"mining\", \"display\", \"towards\", \"output\", \"learning\", \"streaming\", \"flexible\", \"scalable\", \"frequency\", \"adaptive\", \"database\", \"system\", \"interface\", \"generation\", \"approach\", \"query\", \"design\", \"base\", \"scheme\", \"model\", \"efficient\", \"algorithm\", \"multi\", \"large\", \"analysis\"], \"Total\": [267.0, 87.0, 107.0, 83.0, 59.0, 47.0, 236.0, 175.0, 33.0, 93.0, 51.0, 111.0, 78.0, 35.0, 27.0, 26.0, 42.0, 18.0, 52.0, 58.0, 94.0, 85.0, 52.0, 32.0, 34.0, 22.0, 141.0, 25.0, 19.0, 29.0, 47.16893005371094, 19.626615524291992, 18.724302291870117, 17.67432975769043, 15.867193222045898, 15.120258331298828, 15.10968017578125, 13.155996322631836, 12.703473091125488, 12.5565185546875, 12.409096717834473, 11.957636833190918, 11.348481178283691, 12.101300239562988, 11.053489685058594, 10.296963691711426, 11.345139503479004, 10.149676322937012, 9.845459938049316, 9.69853401184082, 9.393837928771973, 9.393001556396484, 9.24654483795166, 8.794339179992676, 9.390597343444824, 8.195647239685059, 8.485430717468262, 8.04810619354248, 7.89105224609375, 7.890945911407471, 267.0334167480469, 83.74871063232422, 18.79882049560547, 19.24696922302246, 107.0960693359375, 34.160640716552734, 52.16816711425781, 58.150028228759766, 23.62713050842285, 69.71711730957031, 28.65334129333496, 24.62245750427246, 51.37084197998047, 33.409915924072266, 46.572208404541016, 43.36659240722656, 236.1896209716797, 85.2011489868164, 36.83279800415039, 69.30144500732422, 24.409879684448242, 24.606494903564453, 72.43492889404297, 93.96519470214844, 52.859222412109375, 175.17196655273438, 53.39430236816406, 31.96152114868164, 94.85018157958984, 141.19534301757812, 14.14224910736084, 14.029902458190918, 10.743247032165527, 9.792963981628418, 9.659811973571777, 9.384468078613281, 8.568086624145508, 8.435731887817383, 8.159750938415527, 8.159759521484375, 8.027525901794434, 7.751253604888916, 7.618380546569824, 7.618322372436523, 6.801698684692383, 6.8017497062683105, 6.393455982208252, 6.393398761749268, 6.393362522125244, 6.260312557220459, 5.984886646270752, 5.851923942565918, 5.851994514465332, 5.852017402648926, 7.6304144859313965, 5.57679557800293, 5.443709850311279, 5.443570613861084, 5.443806171417236, 5.3105149269104, 33.429935455322266, 7.647032737731934, 8.888516426086426, 15.933019638061523, 16.358644485473633, 59.48016357421875, 34.193599700927734, 6.8214616775512695, 175.17196655273438, 13.816670417785645, 52.859222412109375, 20.106033325195312, 15.194942474365234, 13.278039932250977, 141.19534301757812, 22.173858642578125, 16.355302810668945, 107.0960693359375, 60.97208786010742, 267.0334167480469, 78.10919952392578, 18.304588317871094, 14.857717514038086, 83.74871063232422, 93.96519470214844, 111.63365936279297, 33.409915924072266, 67.14189147949219, 48.54364013671875, 52.16816711425781, 41.50545883178711, 28.592283248901367, 19.206836700439453, 18.21454620361328, 12.164618492126465, 11.161846160888672, 11.16153335571289, 11.020980834960938, 10.871105194091797, 10.87043285369873, 10.589530944824219, 11.162141799926758, 10.15826416015625, 9.72706127166748, 9.29561710357666, 9.004886627197266, 8.864240646362305, 8.43307113647461, 8.292346954345703, 8.141714096069336, 8.140213966369629, 7.710970878601074, 7.570314407348633, 7.4297709465026855, 7.138986587524414, 7.138275623321533, 8.87643814086914, 6.707821846008301, 6.707770347595215, 6.566936492919922, 6.276475429534912, 6.276483058929443, 7.13267183303833, 87.22848510742188, 25.54110336303711, 20.796802520751953, 42.36396789550781, 17.83966636657715, 18.177112579345703, 26.425434112548828, 21.812358856201172, 30.649728775024414, 236.1896209716797, 41.50545883178711, 78.10919952392578, 175.17196655273438, 19.804481506347656, 67.14189147949219, 36.98017120361328, 30.147720336914062, 59.48016357421875, 141.19534301757812, 79.57725524902344, 58.150028228759766, 47.38703918457031, 53.39430236816406, 43.29448318481445, 29.410064697265625, 85.2011489868164, 51.639495849609375, 72.43492889404297, 27.091915130615234, 26.630651473999023, 22.328092575073242, 21.40511703491211, 20.17226219177246, 17.103647232055664, 16.33155632019043, 15.870562553405762, 16.03006362915039, 15.407936096191406, 13.263081550598145, 13.87136173248291, 11.879406929016113, 11.72876262664795, 11.877402305603027, 10.956178665161133, 9.733236312866211, 9.572964668273926, 15.232089042663574, 14.639181137084961, 9.572661399841309, 9.1104736328125, 8.96121883392334, 8.65048885345459, 8.03879165649414, 8.036052703857422, 7.887668609619141, 7.887355804443359, 12.622702598571777, 7.426827430725098, 35.328163146972656, 51.639495849609375, 24.838756561279297, 32.71891784667969, 34.78409957885742, 111.63365936279297, 23.311914443969727, 93.96519470214844, 94.85018157958984, 36.67488479614258, 33.42408752441406, 36.59233474731445, 141.19534301757812, 236.1896209716797, 37.87477493286133, 36.01118087768555, 56.849796295166016, 85.2011489868164, 35.45521926879883, 21.24459457397461, 79.57725524902344, 53.39430236816406, 27.043663024902344, 69.30144500732422, 18.274141311645508, 13.227715492248535, 12.642979621887207, 11.344803810119629, 10.62929916381836, 9.329081535339355, 8.46388053894043, 8.464003562927246, 8.463679313659668, 8.463567733764648, 8.322535514831543, 8.030651092529297, 8.030738830566406, 7.597614288330078, 7.455998420715332, 6.731452465057373, 6.73178243637085, 6.589967250823975, 6.29868221282959, 5.865405559539795, 5.8654866218566895, 5.865030765533447, 5.865154266357422, 5.865091323852539, 5.724260330200195, 5.723844051361084, 5.724066734313965, 5.432409763336182, 5.432476997375488, 5.432432174682617, 17.53714370727539, 16.949642181396484, 16.094406127929688, 23.293384552001953, 13.789998054504395, 12.210620880126953, 17.827932357788086, 19.39562225341797, 26.777233123779297, 29.709449768066406, 43.29448318481445, 78.10919952392578, 175.17196655273438, 20.38909912109375, 24.437393188476562, 60.97208786010742, 87.22848510742188, 111.63365936279297, 236.1896209716797, 43.36659240722656, 67.14189147949219, 79.57725524902344, 94.85018157958984, 72.43492889404297, 51.37084197998047, 69.30144500732422], \"loglift\": [30.0, 29.0, 28.0, 27.0, 26.0, 25.0, 24.0, 23.0, 22.0, 21.0, 20.0, 19.0, 18.0, 17.0, 16.0, 15.0, 14.0, 13.0, 12.0, 11.0, 10.0, 9.0, 8.0, 7.0, 6.0, 5.0, 4.0, 3.0, 2.0, 1.0, 1.3049999475479126, 1.2862000465393066, 1.2853000164031982, 1.2835999727249146, 1.2792999744415283, 1.2769999504089355, 1.2756999731063843, 1.270400047302246, 1.2682000398635864, 1.267699956893921, 1.2668999433517456, 1.2652000188827515, 1.2618999481201172, 1.26010000705719, 1.2597999572753906, 1.2552000284194946, 1.2551000118255615, 1.2537000179290771, 1.252500057220459, 1.2517000436782837, 1.2489999532699585, 1.2487000226974487, 1.2480000257492065, 1.2437000274658203, 1.2431000471115112, 1.2382999658584595, 1.2367000579833984, 1.2366000413894653, 1.2350000143051147, 1.2346999645233154, 1.1983000040054321, 1.1227999925613403, 1.184399962425232, 1.172700047492981, 1.0297000408172607, 1.0956000089645386, 1.0153000354766846, 0.8661999702453613, 1.0546000003814697, 0.8129000067710876, 1.0074000358581543, 1.039199948310852, 0.8517000079154968, 0.9139999747276306, 0.8087000250816345, 0.7698000073432922, 0.05689999833703041, 0.37279999256134033, 0.7584999799728394, 0.435699999332428, 0.9408000111579895, 0.9269999861717224, 0.30720001459121704, 0.10790000110864639, 0.3977999985218048, -0.5047000050544739, 0.3167000114917755, 0.7242000102996826, -0.3237999975681305, -0.7034000158309937, 1.7956000566482544, 1.781599998474121, 1.7785999774932861, 1.7733999490737915, 1.7723000049591064, 1.7692999839782715, 1.7619999647140503, 1.7592999935150146, 1.7588000297546387, 1.7587000131607056, 1.7553000450134277, 1.7527999877929688, 1.7522000074386597, 1.7506999969482422, 1.739799976348877, 1.739300012588501, 1.7340999841690063, 1.7338000535964966, 1.7329000234603882, 1.7308000326156616, 1.7244999408721924, 1.7229000329971313, 1.7228000164031982, 1.7222000360488892, 1.7213000059127808, 1.7167999744415283, 1.7131999731063843, 1.7121000289916992, 1.7120000123977661, 1.7093000411987305, 1.687600016593933, 1.677299976348877, 1.655900001525879, 1.5857000350952148, 1.5678000450134277, 1.3842999935150146, 1.3141000270843506, 1.6779999732971191, 0.6560999751091003, 1.4558000564575195, 0.9855999946594238, 1.2670999765396118, 1.347499966621399, 1.3992999792099, 0.29350000619888306, 1.1627999544143677, 1.2980999946594238, 0.26100000739097595, 0.519599974155426, -0.3479999899864197, 0.37049999833106995, 1.2098000049591064, 1.322100043296814, 0.048700001090765, -0.03750000149011612, -0.1876000016927719, 0.6845999956130981, 0.05420000106096268, 0.2102999985218048, 0.1348000019788742, 0.35019999742507935, 0.7050999999046326, 1.6139999628067017, 1.6023999452590942, 1.5916999578475952, 1.5882999897003174, 1.5881999731063843, 1.587399959564209, 1.5867999792099, 1.586300015449524, 1.5845999717712402, 1.582900047302246, 1.5819000005722046, 1.5786999464035034, 1.5755000114440918, 1.573199987411499, 1.5716999769210815, 1.5678999423980713, 1.565999984741211, 1.5627000331878662, 1.5612000226974487, 1.5598000288009644, 1.5577000379562378, 1.555799961090088, 1.5520000457763672, 1.5511000156402588, 1.5478999614715576, 1.5460000038146973, 1.545799970626831, 1.5429999828338623, 1.538599967956543, 1.5384999513626099, 1.535099983215332, 1.4211000204086304, 1.468999981880188, 1.4174000024795532, 1.2244000434875488, 1.3539999723434448, 1.347499966621399, 1.198099970817566, 1.2173000574111938, 1.0881999731063843, 0.3935000002384186, 0.9660000205039978, 0.6704000234603882, 0.34200000762939453, 1.212499976158142, 0.6394000053405762, 0.8891000151634216, 0.9825000166893005, 0.6280999779701233, 0.1429000049829483, 0.21780000627040863, 0.4205999970436096, 0.5464000105857849, 0.44269999861717224, 0.54830002784729, 0.817300021648407, -0.05990000069141388, 0.3393999934196472, 0.017999999225139618, 1.4575999975204468, 1.457200050354004, 1.4521000385284424, 1.4500000476837158, 1.4490000009536743, 1.4429999589920044, 1.441100001335144, 1.440000057220459, 1.4399000406265259, 1.4383000135421753, 1.431399941444397, 1.430400013923645, 1.4256000518798828, 1.4246000051498413, 1.423799991607666, 1.4199999570846558, 1.412500023841858, 1.4114999771118164, 1.4098999500274658, 1.409500002861023, 1.4089000225067139, 1.4068000316619873, 1.406499981880188, 1.4038000106811523, 1.3976000547409058, 1.395799994468689, 1.395400047302246, 1.3950999975204468, 1.3919999599456787, 1.388200044631958, 1.3672000169754028, 1.152999997138977, 1.2475999593734741, 1.1754000186920166, 1.1622999906539917, 0.953000009059906, 1.2151999473571777, 0.8781999945640564, 0.8352000117301941, 1.072700023651123, 1.0801000595092773, 1.038699984550476, 0.5781999826431274, 0.3880000114440918, 1.0219999551773071, 1.0263999700546265, 0.8603000044822693, 0.6201000213623047, 1.006100058555603, 1.2022000551223755, 0.21549999713897705, 0.3686999976634979, 0.9653000235557556, 0.10400000214576721, 1.823199987411499, 1.809000015258789, 1.8055000305175781, 1.7994999885559082, 1.7961000204086304, 1.7858999967575073, 1.7790000438690186, 1.7788000106811523, 1.778499960899353, 1.777999997138977, 1.7773000001907349, 1.7740000486373901, 1.7732000350952148, 1.7690999507904053, 1.7664999961853027, 1.756700038909912, 1.7562999725341797, 1.7541999816894531, 1.7497999668121338, 1.7409000396728516, 1.7407000064849854, 1.7407000064849854, 1.7403000593185425, 1.7391999959945679, 1.7380000352859497, 1.7371000051498413, 1.7367000579833984, 1.7310999631881714, 1.7310999631881714, 1.7310999631881714, 1.6402000188827515, 1.6366000175476074, 1.5679999589920044, 1.4830000400543213, 1.5634000301361084, 1.5856000185012817, 1.4362000226974487, 1.3865000009536743, 1.2656999826431274, 1.1190999746322632, 0.9205999970436096, 0.6452000141143799, 0.26919999718666077, 1.2245999574661255, 1.069599986076355, 0.5493999719619751, 0.2232999950647354, 0.04809999838471413, -0.4713999927043915, 0.6462000012397766, 0.31709998846054077, 0.1882999986410141, 0.05000000074505806, 0.1467999964952469, 0.3790000081062317, -0.02889999933540821], \"logprob\": [30.0, 29.0, 28.0, 27.0, 26.0, 25.0, 24.0, 23.0, 22.0, 21.0, 20.0, 19.0, 18.0, 17.0, 16.0, 15.0, 14.0, 13.0, 12.0, 11.0, 10.0, 9.0, 8.0, 7.0, 6.0, 5.0, 4.0, 3.0, 2.0, 1.0, -4.4608001708984375, -5.356400012969971, -5.404399871826172, -5.463799953460693, -5.576000213623047, -5.626500129699707, -5.628499984741211, -5.772299766540527, -5.809500217437744, -5.821599960327148, -5.834199905395508, -5.873000144958496, -5.928599834442139, -5.866099834442139, -5.956999778747559, -6.03249979019165, -5.9355998039245605, -6.048399925231934, -6.079999923706055, -6.095900058746338, -6.13040018081665, -6.130799770355225, -6.147200107574463, -6.201700210571289, -6.13670015335083, -6.277599811553955, -6.2444000244140625, -6.297500133514404, -6.31879997253418, -6.3190999031066895, -2.833899974822998, -4.068900108337402, -5.501399993896484, -5.4893999099731445, -3.916100025177002, -4.992800235748291, -4.649799823760986, -4.690299987792969, -5.402500152587891, -4.562099933624268, -5.256899833679199, -5.376699924468994, -4.828800201416016, -5.196700096130371, -4.969799995422363, -5.079999923706055, -4.0980000495910645, -4.801700115203857, -5.2546000480651855, -4.945400238037109, -5.483699798583984, -5.489500045776367, -5.029699802398682, -4.968699932098389, -5.2540998458862305, -4.958499908447266, -5.325099945068359, -5.430799961090088, -5.39109992980957, -5.372799873352051, -5.174699783325195, -5.196700096130371, -5.466599941253662, -5.5644001960754395, -5.57919979095459, -5.611199855804443, -5.709400177001953, -5.727799892425537, -5.761499881744385, -5.761600017547607, -5.781400203704834, -5.818900108337402, -5.8368000984191895, -5.8383002281188965, -5.962600231170654, -5.9629998207092285, -6.030099868774414, -6.0304999351501465, -6.031400203704834, -6.054500102996826, -6.105800151824951, -6.129799842834473, -6.129899978637695, -6.130499839782715, -5.866099834442139, -6.184100151062012, -6.211900234222412, -6.2129998207092285, -6.213099956512451, -6.240499973297119, -4.422399997711182, -5.907899856567383, -5.778900146484375, -5.265399932861328, -5.256999969482422, -4.149600028991699, -4.773399829864502, -6.021399974822998, -3.797600030899048, -5.537799835205078, -4.666299819946289, -5.351399898529053, -5.55109977722168, -5.634200096130371, -4.375899791717529, -5.357800006866455, -5.526899814605713, -4.684800148010254, -4.989500045776367, -4.380099773406982, -4.890900135040283, -5.502600193023682, -5.598899841308594, -5.143099784851074, -5.114099979400635, -5.091899871826172, -5.426000118255615, -5.358500003814697, -5.526800155639648, -5.530200004577637, -5.543499946594238, -5.561200141906738, -5.050300121307373, -5.1149001121521, -5.529300212860107, -5.61870002746582, -5.618899822235107, -5.632299900054932, -5.646599769592285, -5.647200107574463, -5.675099849700928, -5.624100208282471, -5.719299793243408, -5.765900135040283, -5.814499855041504, -5.848599910736084, -5.865799903869629, -5.919400215148926, -5.938199996948242, -5.95989990234375, -5.96150016784668, -6.017099857330322, -6.037600040435791, -6.058300018310547, -6.101900100708008, -6.10290002822876, -5.888299942016602, -6.170300006866455, -6.170499801635742, -6.194399833679199, -6.244200229644775, -6.244200229644775, -6.119800090789795, -3.7298998832702637, -4.910299777984619, -5.167300224304199, -4.648799896240234, -5.384099960327148, -5.371799945831299, -5.14709997177124, -5.319699764251709, -5.108699798583984, -3.761399984359741, -4.927700042724609, -4.591000080108643, -4.111700057983398, -5.421199798583984, -4.7733001708984375, -5.119999885559082, -5.230899810791016, -4.905799865722656, -4.526500225067139, -5.025000095367432, -5.135900020599365, -5.214799880981445, -5.19920015335083, -5.303199768066406, -5.420899868011475, -5.234499931335449, -5.335899829864502, -5.31879997253418, -4.86269998550415, -4.880300045013428, -5.061600208282471, -5.105899810791016, -5.166299819946289, -5.337200164794922, -5.385300159454346, -5.414999961853027, -5.405200004577637, -5.446300029754639, -5.603099822998047, -5.559299945831299, -5.719200134277344, -5.732900142669678, -5.721099853515625, -5.805699825286865, -5.93149995803833, -5.948999881744385, -5.486199855804443, -5.526299953460693, -5.951700210571289, -6.003300189971924, -6.020199775695801, -6.05810022354126, -6.137700080871582, -6.139800071716309, -6.158899784088135, -6.159200191497803, -5.6921000480651855, -6.22629976272583, -4.687600135803223, -4.522200107574463, -5.159599781036377, -4.956200122833252, -4.9079999923706055, -3.9512999057769775, -5.255300045013428, -4.198400020599365, -4.23199987411499, -4.944699764251709, -5.030099868774414, -4.980999946594238, -4.09119987487793, -3.766900062561035, -4.9633002281188965, -5.009300231933594, -4.718800067901611, -4.5543999671936035, -5.045199871063232, -5.361199855804443, -5.027299880981445, -5.273099899291992, -5.356800079345703, -5.2769999504089355, -4.8907999992370605, -5.228300094604492, -5.276899814605713, -5.391200065612793, -5.459799766540527, -5.600500106811523, -5.704800128936768, -5.704899787902832, -5.7052998542785645, -5.705699920654297, -5.723199844360352, -5.762199878692627, -5.7631001472473145, -5.822500228881836, -5.843999862670898, -5.955999851226807, -5.956399917602539, -5.979800224304199, -6.029399871826172, -6.109600067138672, -6.1097002029418945, -6.109899997711182, -6.110199928283691, -6.111299991607666, -6.1367998123168945, -6.137700080871582, -6.138199806213379, -6.196000099182129, -6.196100234985352, -6.196100234985352, -5.114999771118164, -5.152699947357178, -5.273099899291992, -4.98829984664917, -5.432199954986572, -5.531599998474121, -5.302499771118164, -5.26800012588501, -5.066199779510498, -5.109000205993652, -4.9309000968933105, -4.616199970245361, -4.184599876403809, -5.379899978637695, -5.353899955749512, -4.959700107574463, -4.927700042724609, -4.856200218200684, -4.626299858093262, -5.203700065612793, -5.095699787139893, -5.054500102996826, -5.017300128936768, -5.190000057220459, -5.301400184631348, -5.409999847412109]}, \"token.table\": {\"Topic\": [1, 5, 1, 2, 3, 5, 2, 3, 2, 1, 3, 4, 5, 1, 1, 4, 1, 4, 1, 2, 3, 4, 5, 3, 5, 2, 1, 2, 3, 4, 1, 2, 3, 4, 5, 3, 4, 1, 2, 4, 1, 2, 3, 5, 2, 1, 3, 4, 5, 4, 2, 1, 2, 3, 4, 5, 3, 1, 1, 3, 1, 4, 1, 4, 5, 3, 1, 1, 1, 3, 4, 4, 5, 4, 5, 5, 5, 1, 2, 5, 1, 3, 5, 3, 4, 1, 3, 4, 5, 3, 4, 5, 5, 2, 3, 4, 1, 2, 3, 5, 4, 4, 1, 2, 4, 4, 1, 2, 3, 4, 5, 5, 3, 4, 3, 3, 5, 5, 2, 4, 5, 2, 4, 4, 1, 2, 3, 3, 3, 1, 2, 3, 4, 5, 1, 1, 2, 4, 2, 3, 2, 3, 4, 5, 1, 3, 5, 3, 4, 1, 2, 4, 1, 2, 3, 4, 5, 5, 3, 5, 5, 5, 4, 1, 4, 5, 2, 3, 5, 2, 3, 5, 1, 3, 2, 5, 2, 5, 1, 2, 3, 4, 5, 2, 3, 3, 4, 5, 1, 2, 3, 4, 4, 5, 2, 3, 5, 1, 2, 5, 1, 2, 5, 2, 3, 1, 1, 2, 3, 5, 3, 5, 1, 3, 4, 4, 2, 2, 2, 2, 2, 5, 3, 2, 3, 1, 1, 3, 3, 3, 1, 3, 4, 4, 2, 5, 1, 2, 3, 5, 1, 2, 3, 4, 5, 1, 3, 5, 4, 3, 3, 5, 1, 2, 3, 4, 5, 1, 2, 5, 1, 1, 2, 3, 1, 2, 4, 5, 1, 2, 3, 4, 2, 1, 1, 1, 1, 2, 3, 5, 1, 3, 2, 3, 4, 5, 1, 2, 4, 4, 5, 4, 2, 3, 5, 5, 1, 2, 4, 2, 4, 2, 2, 3, 4, 1, 1, 4, 5, 4, 2, 3, 3, 5, 3, 4, 2, 5, 4, 3, 2, 3, 3, 4, 2, 3, 1, 2, 2, 3, 4, 5, 1, 2, 1, 3, 5, 2, 3, 3, 2, 5, 1, 2, 3, 4, 1, 2, 3, 5, 1, 1, 2, 3, 2, 5, 5, 4, 3, 5, 3, 2, 1, 2, 3, 3, 3, 3, 5, 1, 3, 4, 4, 4, 1, 1, 3, 1, 2, 3, 2, 3, 5, 2, 3, 4, 4, 2, 3, 4, 1, 2, 3, 4, 5, 2, 5, 1, 5, 1, 5, 4, 5, 1, 3, 5, 5, 1, 2, 2, 3, 1, 2, 3, 4, 5, 1, 5, 1, 2, 3, 4, 5, 2, 3, 4, 5, 5, 3, 2, 2, 1, 2, 5, 3], \"Freq\": [0.8832559585571289, 0.10391246527433395, 0.1847810447216034, 0.0923905223608017, 0.32336682081222534, 0.3926597237586975, 0.8544095754623413, 0.8597698211669922, 0.9184913039207458, 0.18977296352386475, 0.1159723699092865, 0.527147114276886, 0.16868707537651062, 0.9259101152420044, 0.32719939947128296, 0.6543987989425659, 0.201298326253891, 0.805193305015564, 0.4184616804122925, 0.057718854397535324, 0.12986741960048676, 0.245305135846138, 0.14429713785648346, 0.7693490386009216, 0.1923372596502304, 0.9384679794311523, 0.3873187303543091, 0.011736931279301643, 0.1760539710521698, 0.42252951860427856, 0.19681136310100555, 0.26241517066955566, 0.04920284077525139, 0.21321231126785278, 0.26241517066955566, 0.27111032605171204, 0.7165058255195618, 0.32905685901641846, 0.5923023223876953, 0.9127269983291626, 0.5701440572738647, 0.2171977311372757, 0.13574858009815216, 0.08144915103912354, 0.8578684329986572, 0.2836703956127167, 0.2836703956127167, 0.3344770073890686, 0.09737938642501831, 0.9259721636772156, 0.8821325898170471, 0.9613175392150879, 0.7875329852104187, 0.11250471323728561, 0.8707776069641113, 0.9451791644096375, 0.841199517250061, 0.869769811630249, 0.944623589515686, 0.9252537488937378, 0.563177227973938, 0.4380267262458801, 0.19129689037799835, 0.628546953201294, 0.13664063811302185, 0.948646068572998, 0.9581601619720459, 0.9761279225349426, 0.9881425499916077, 0.9199265837669373, 0.8874964118003845, 0.9191122651100159, 0.06565088033676147, 0.9246667623519897, 0.9407957792282104, 0.9388414025306702, 0.9827849864959717, 0.9733365178108215, 0.8578693270683289, 0.8912944197654724, 0.40562278032302856, 0.45970582962036133, 0.13520759344100952, 0.8859781622886658, 0.9853058457374573, 0.6024345755577087, 0.1577804833650589, 0.12909311056137085, 0.10040576010942459, 0.8405391573905945, 0.7335205674171448, 0.2445068657398224, 0.8735388517379761, 0.14790895581245422, 0.22186343371868134, 0.5916358232498169, 0.10242071747779846, 0.23044660687446594, 0.3712750971317291, 0.2944595515727997, 0.9354729652404785, 0.9371826648712158, 0.7903832793235779, 0.17564073204994202, 0.9596958756446838, 0.9261284470558167, 0.026873614639043808, 0.13436807692050934, 0.08957871794700623, 0.5912195444107056, 0.16124169528484344, 0.8524925112724304, 0.08491808921098709, 0.9057928919792175, 0.9681982398033142, 0.24853356182575226, 0.7456006407737732, 0.8716508150100708, 0.5463111400604248, 0.3277866542339325, 0.16389332711696625, 0.5502802133560181, 0.3668535053730011, 0.9801643490791321, 0.7284135818481445, 0.1725189983844757, 0.07667510956525803, 0.9421555399894714, 0.8944781422615051, 0.18849606812000275, 0.10053123533725739, 0.23876169323921204, 0.2764609158039093, 0.18849606812000275, 0.9711600542068481, 0.6908745169639587, 0.2031983882188797, 0.12191902846097946, 0.4960796535015106, 0.4509814977645874, 0.8544198274612427, 0.1724926084280014, 0.7187191843986511, 0.1149950698018074, 0.9556789398193359, 0.8958854079246521, 0.8716603517532349, 0.7151851058006287, 0.22005695104599, 0.04707079753279686, 0.18828319013118744, 0.7531327605247498, 0.15831191837787628, 0.08795106410980225, 0.08795106410980225, 0.5452966094017029, 0.12313149124383926, 0.9213418364524841, 0.360906183719635, 0.6186963319778442, 0.9204018712043762, 0.8524441719055176, 0.8781102299690247, 0.9265583157539368, 0.5048898458480835, 0.47123053669929504, 0.9188374876976013, 0.6418379545211792, 0.3209189772605896, 0.2864462733268738, 0.24552537500858307, 0.45012983679771423, 0.5440314412117004, 0.4420255422592163, 0.6513870358467102, 0.28950536251068115, 0.9185147881507874, 0.8735048174858093, 0.16480016708374023, 0.18540018796920776, 0.2060002088546753, 0.2884002923965454, 0.16480016708374023, 0.7531529068946838, 0.18828822672367096, 0.1584167778491974, 0.6336671113967896, 0.18481957912445068, 0.397281676530838, 0.41619983315467834, 0.018918175250291824, 0.1513454020023346, 0.9506680369377136, 0.07922233641147614, 0.9265923500061035, 0.6433196067810059, 0.3405809700489044, 0.2942748963832855, 0.14713744819164276, 0.5395039916038513, 0.6584871411323547, 0.2993123233318329, 0.9203904867172241, 0.9190271496772766, 0.8404554128646851, 0.8867278099060059, 0.6229214668273926, 0.038932591676712036, 0.11679777503013611, 0.23359555006027222, 0.16379183530807495, 0.7370632290840149, 0.265360027551651, 0.4975500702857971, 0.19902002811431885, 0.9796984195709229, 0.9308173060417175, 0.9483468532562256, 0.8719996809959412, 0.938459575176239, 0.8674860000610352, 0.11965323984622955, 0.9333199858665466, 0.8354377150535583, 0.9198696613311768, 0.9279752969741821, 0.6964393258094788, 0.2867691218852997, 0.9443289041519165, 0.9559504985809326, 0.3745718002319336, 0.2996574342250824, 0.3371146321296692, 0.9378653168678284, 0.17699488997459412, 0.8259761333465576, 0.6012169122695923, 0.12883219122886658, 0.15030422806739807, 0.10736016184091568, 0.11915065348148346, 0.1638321429491043, 0.3574519455432892, 0.13404448330402374, 0.20851363241672516, 0.14162980020046234, 0.6609390377998352, 0.18883971869945526, 0.9914604425430298, 0.9012624025344849, 0.8222041130065918, 0.15661031007766724, 0.3589428663253784, 0.12424945086240768, 0.19327692687511444, 0.13805493712425232, 0.1794714331626892, 0.919914186000824, 0.605745792388916, 0.40383052825927734, 0.969578206539154, 0.8837845325469971, 0.11234548687934875, 0.0037448497023433447, 0.22563673555850983, 0.11281836777925491, 0.6205010414123535, 0.05640918388962746, 0.22215323150157928, 0.05553830787539482, 0.08330745995044708, 0.6386905312538147, 0.8965722322463989, 0.9427924752235413, 0.9089932441711426, 0.9618469476699829, 0.761836051940918, 0.21162112057209015, 0.21754898130893707, 0.7251632809638977, 0.8511172533035278, 0.10638965666294098, 0.7335571050643921, 0.18338927626609802, 0.981073796749115, 0.8913381099700928, 0.4546681344509125, 0.31477025151252747, 0.24482129514217377, 0.9357417821884155, 0.8524559736251831, 0.9451460838317871, 0.9173813462257385, 0.6564170718193054, 0.3534553647041321, 0.9491433501243591, 0.29798266291618347, 0.14899133145809174, 0.5427541732788086, 0.9184750318527222, 0.9248031973838806, 0.8544062376022339, 0.13050685822963715, 0.5546541810035706, 0.2936404347419739, 0.9141269326210022, 0.06830982863903046, 0.9563376307487488, 0.9647251963615417, 0.8710744380950928, 0.8795768618583679, 0.14659614861011505, 0.7910259962081909, 0.19489046931266785, 0.9136680364608765, 0.887461245059967, 0.9336974024772644, 0.9525802135467529, 0.8927357196807861, 0.9892311096191406, 0.958418607711792, 0.9073602557182312, 0.9246643781661987, 0.9401773810386658, 0.6778109073638916, 0.30124929547309875, 0.9752182364463806, 0.882125973701477, 0.18672579526901245, 0.0746903121471405, 0.18672579526901245, 0.5601773858070374, 0.7716532945632935, 0.2436799854040146, 0.5764806270599365, 0.1152961254119873, 0.29976990818977356, 0.6388684511184692, 0.3530588746070862, 0.9559493660926819, 0.9415282607078552, 0.9451929330825806, 0.9670324921607971, 0.5849047899246216, 0.2632071375846863, 0.1462261974811554, 0.8238933086395264, 0.16716675460338593, 0.011940482072532177, 0.9452154040336609, 0.9453467726707458, 0.6362851858139038, 0.068787582218647, 0.2923472225666046, 0.9316951632499695, 0.852501630783081, 0.9849984049797058, 0.9763185977935791, 0.9647449851036072, 0.8525104522705078, 0.88840651512146, 0.9384732842445374, 0.7328988313674927, 0.1744997203350067, 0.10469982773065567, 0.9025025963783264, 0.9077975153923035, 0.17106547951698303, 0.7983055710792542, 0.08975563198328018, 0.23934833705425262, 0.6582079529762268, 0.9401476383209229, 0.9425289630889893, 0.9692927002906799, 0.8870806694030762, 0.9855000376701355, 0.9096760749816895, 0.2242194414138794, 0.7287131547927856, 0.16827526688575745, 0.16827526688575745, 0.6731010675430298, 0.21683894097805023, 0.5059575438499451, 0.26502537727355957, 0.973524272441864, 0.1715860813856125, 0.04289652034640312, 0.7721373438835144, 0.15984292328357697, 0.30255982279777527, 0.26830777525901794, 0.0570867583155632, 0.20551232993602753, 0.784618079662323, 0.13076967000961304, 0.9584054946899414, 0.9203980565071106, 0.9580748677253723, 0.969606876373291, 0.3005145192146301, 0.6868903040885925, 0.9680731892585754, 0.9042618274688721, 0.910474956035614, 0.9612455368041992, 0.887092649936676, 0.9192314147949219, 0.9590314626693726, 0.8959342241287231, 0.1345653384923935, 0.2124715894460678, 0.21955397725105286, 0.4036960303783417, 0.028329545632004738, 0.9046916365623474, 0.945227861404419, 0.12661689519882202, 0.06330844759941101, 0.3376450538635254, 0.2954394221305847, 0.1688225269317627, 0.5470994710922241, 0.09947262704372406, 0.1492089480161667, 0.1492089480161667, 0.8734753131866455, 0.8599282503128052, 0.9188304543495178, 0.9030797481536865, 0.7469928860664368, 0.205423042178154, 0.0466870553791523, 0.8944849967956543], \"Term\": [\"access\", \"access\", \"adaptive\", \"adaptive\", \"adaptive\", \"adaptive\", \"adder\", \"admission\", \"aggregate\", \"algorithm\", \"algorithm\", \"algorithm\", \"algorithm\", \"allocation\", \"amplifier\", \"amplifier\", \"analog\", \"analog\", \"analysis\", \"analysis\", \"analysis\", \"analysis\", \"analysis\", \"animation\", \"animation\", \"antenna\", \"application\", \"application\", \"application\", \"application\", \"approach\", \"approach\", \"approach\", \"approach\", \"approach\", \"architecture\", \"architecture\", \"attack\", \"attack\", \"audio\", \"aware\", \"aware\", \"aware\", \"aware\", \"backbone\", \"base\", \"base\", \"base\", \"base\", \"blind\", \"browsing\", \"cache\", \"camera\", \"camera\", \"cancellation\", \"capacitor\", \"capture\", \"cellular\", \"center\", \"challenge\", \"channel\", \"channel\", \"circuit\", \"circuit\", \"circuit\", \"click\", \"cluster\", \"cognitive\", \"collection\", \"color\", \"comparison\", \"compensation\", \"compensation\", \"complexity\", \"compression\", \"computation\", \"computer\", \"congestion\", \"connect\", \"construct\", \"content\", \"content\", \"content\", \"context\", \"continuous\", \"control\", \"control\", \"control\", \"control\", \"convergence\", \"converter\", \"converter\", \"create\", \"current\", \"current\", \"current\", \"database\", \"database\", \"database\", \"database\", \"decoder\", \"decoding\", \"delay\", \"delay\", \"delta\", \"demand\", \"design\", \"design\", \"design\", \"design\", \"design\", \"detect\", \"digital\", \"digital\", \"discovery\", \"display\", \"display\", \"distortion\", \"document\", \"document\", \"document\", \"domain\", \"domain\", \"double\", \"dynamic\", \"dynamic\", \"dynamic\", \"early\", \"editing\", \"efficient\", \"efficient\", \"efficient\", \"efficient\", \"efficient\", \"electronic\", \"energy\", \"energy\", \"energy\", \"engine\", \"engine\", \"entity\", \"estimation\", \"estimation\", \"estimation\", \"event\", \"experience\", \"extend\", \"extraction\", \"extraction\", \"field\", \"field\", \"field\", \"filter\", \"filter\", \"filter\", \"filter\", \"filter\", \"fix\", \"flexible\", \"flexible\", \"focus\", \"fourier\", \"fpgas\", \"fractional\", \"frequency\", \"frequency\", \"generalize\", \"generate\", \"generate\", \"generation\", \"generation\", \"generation\", \"graph\", \"graph\", \"graphic\", \"graphic\", \"guarantee\", \"h.264/avc\", \"image\", \"image\", \"image\", \"image\", \"image\", \"impact\", \"impact\", \"implementation\", \"implementation\", \"implementation\", \"information\", \"information\", \"information\", \"information\", \"integration\", \"integration\", \"interaction\", \"interactive\", \"interactive\", \"interface\", \"interface\", \"interface\", \"internet\", \"internet\", \"invariant\", \"issue\", \"iterative\", \"joint\", \"large\", \"large\", \"large\", \"large\", \"learning\", \"learning\", \"level\", \"level\", \"level\", \"light\", \"line\", \"localization\", \"machine\", \"maintenance\", \"management\", \"management\", \"mapping\", \"material\", \"matrix\", \"maximize\", \"measurement\", \"measurement\", \"mechanism\", \"metadata\", \"method\", \"method\", \"method\", \"methodology\", \"mining\", \"mining\", \"mobile\", \"mobile\", \"mobile\", \"mobile\", \"model\", \"model\", \"model\", \"model\", \"model\", \"modeling\", \"modeling\", \"modeling\", \"modulator\", \"monitoring\", \"motion\", \"motion\", \"multi\", \"multi\", \"multi\", \"multi\", \"multi\", \"multicast\", \"multimedia\", \"multimedia\", \"multipath\", \"network\", \"network\", \"network\", \"noise\", \"noise\", \"noise\", \"noise\", \"novel\", \"novel\", \"novel\", \"novel\", \"observatory\", \"office\", \"operation\", \"optical\", \"optimal\", \"optimal\", \"output\", \"output\", \"packet\", \"packet\", \"panel\", \"panel\", \"parallel\", \"parametric\", \"performance\", \"performance\", \"performance\", \"phase\", \"picture\", \"pipelined\", \"placement\", \"point\", \"point\", \"policy\", \"power\", \"power\", \"power\", \"presence\", \"price\", \"probabilistic\", \"processing\", \"processing\", \"processing\", \"program\", \"programmable\", \"programmable\", \"programming\", \"projection\", \"protection\", \"protection\", \"query\", \"query\", \"realistic\", \"reality\", \"recording\", \"recursive\", \"reduce\", \"relational\", \"relationship\", \"rendering\", \"representation\", \"resistor\", \"retrieval\", \"retrieval\", \"route\", \"router\", \"scalable\", \"scalable\", \"scalable\", \"scalable\", \"scheduling\", \"scheduling\", \"scheme\", \"scheme\", \"scheme\", \"search\", \"search\", \"secondary\", \"security\", \"segmentation\", \"selection\", \"semantic\", \"semantic\", \"semantic\", \"sensor\", \"sensor\", \"sensor\", \"series\", \"server\", \"service\", \"service\", \"service\", \"session\", \"share\", \"sharing\", \"sigma\", \"simple\", \"simulate\", \"site\", \"sleep\", \"social\", \"social\", \"social\", \"solution\", \"specification\", \"spectrum\", \"spectrum\", \"speed\", \"speed\", \"speed\", \"square\", \"stage\", \"static\", \"stochastic\", \"storage\", \"strategy\", \"stream\", \"stream\", \"streaming\", \"streaming\", \"streaming\", \"structure\", \"structure\", \"structure\", \"synchronization\", \"synthesis\", \"synthesis\", \"synthesis\", \"system\", \"system\", \"system\", \"system\", \"system\", \"table\", \"table\", \"target\", \"third\", \"threshold\", \"toward\", \"towards\", \"towards\", \"traffic\", \"transfer\", \"tree\", \"tuning\", \"uncertainty\", \"understanding\", \"unify\", \"update\", \"using\", \"using\", \"using\", \"using\", \"using\", \"variable\", \"vary\", \"video\", \"video\", \"video\", \"video\", \"video\", \"virtual\", \"virtual\", \"virtual\", \"virtual\", \"visualization\", \"wavelength\", \"wideband\", \"wikipedia\", \"wireless\", \"wireless\", \"wireless\", \"write\"]}, \"R\": 30, \"lambda.step\": 0.01, \"plot.opts\": {\"xlab\": \"PC1\", \"ylab\": \"PC2\"}, \"topic.order\": [1, 2, 3, 4, 5]};\n",
       "\n",
       "function LDAvis_load_lib(url, callback){\n",
       "  var s = document.createElement('script');\n",
       "  s.src = url;\n",
       "  s.async = true;\n",
       "  s.onreadystatechange = s.onload = callback;\n",
       "  s.onerror = function(){console.warn(\"failed to load library \" + url);};\n",
       "  document.getElementsByTagName(\"head\")[0].appendChild(s);\n",
       "}\n",
       "\n",
       "if(typeof(LDAvis) !== \"undefined\"){\n",
       "   // already loaded: just create the visualization\n",
       "   !function(LDAvis){\n",
       "       new LDAvis(\"#\" + \"ldavis_el82981397328474395684106124161\", ldavis_el82981397328474395684106124161_data);\n",
       "   }(LDAvis);\n",
       "}else if(typeof define === \"function\" && define.amd){\n",
       "   // require.js is available: use it to load d3/LDAvis\n",
       "   require.config({paths: {d3: \"https://cdnjs.cloudflare.com/ajax/libs/d3/3.5.5/d3.min\"}});\n",
       "   require([\"d3\"], function(d3){\n",
       "      window.d3 = d3;\n",
       "      LDAvis_load_lib(\"https://cdn.rawgit.com/bmabey/pyLDAvis/files/ldavis.v1.0.0.js\", function(){\n",
       "        new LDAvis(\"#\" + \"ldavis_el82981397328474395684106124161\", ldavis_el82981397328474395684106124161_data);\n",
       "      });\n",
       "    });\n",
       "}else{\n",
       "    // require.js not available: dynamically load d3 & LDAvis\n",
       "    LDAvis_load_lib(\"https://cdnjs.cloudflare.com/ajax/libs/d3/3.5.5/d3.min.js\", function(){\n",
       "         LDAvis_load_lib(\"https://cdn.rawgit.com/bmabey/pyLDAvis/files/ldavis.v1.0.0.js\", function(){\n",
       "                 new LDAvis(\"#\" + \"ldavis_el82981397328474395684106124161\", ldavis_el82981397328474395684106124161_data);\n",
       "            })\n",
       "         });\n",
       "}\n",
       "</script>"
      ],
      "text/plain": [
       "<IPython.core.display.HTML object>"
      ]
     },
     "execution_count": 159,
     "metadata": {},
     "output_type": "execute_result"
    }
   ],
   "source": [
    "pyLDAvis.display(lda_display)"
   ]
  },
  {
   "cell_type": "markdown",
   "metadata": {},
   "source": [
    "Saliency: a measure of how much the term tells you about the topic."
   ]
  },
  {
   "cell_type": "code",
   "execution_count": null,
   "metadata": {},
   "outputs": [],
   "source": []
  }
 ],
 "metadata": {
  "kernelspec": {
   "display_name": "Python 3",
   "language": "python",
   "name": "python3"
  },
  "language_info": {
   "codemirror_mode": {
    "name": "ipython",
    "version": 3
   },
   "file_extension": ".py",
   "mimetype": "text/x-python",
   "name": "python",
   "nbconvert_exporter": "python",
   "pygments_lexer": "ipython3",
   "version": "3.7.3"
  }
 },
 "nbformat": 4,
 "nbformat_minor": 2
}
